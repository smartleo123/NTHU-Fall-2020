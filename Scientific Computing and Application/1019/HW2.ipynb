{
 "cells": [
  {
   "cell_type": "code",
   "execution_count": 2,
   "metadata": {},
   "outputs": [
    {
     "name": "stdout",
     "output_type": "stream",
     "text": [
      "[0.7310585786300049, 0.8807970779778823, 0.9525741268224334, 0.9820137900379085, 0.9933071490757153]\n",
      "[0.19661193324148185, 0.10499358540350662, 0.045176659730912, 0.017662706213291107, 0.006648056670790033]\n"
     ]
    },
    {
     "data": {
      "text/plain": [
       "'\\nz = np.linspace(1, 5, 5)\\n\\nz_f1 = f1(z)\\nz_df1 = df1(z)\\n\\nprint(z_f1)\\nprint(z_df1)\\n'"
      ]
     },
     "execution_count": 2,
     "metadata": {},
     "output_type": "execute_result"
    }
   ],
   "source": [
    "import numpy as np \n",
    "\n",
    "def sigmoid(x):\n",
    "    return 1/(1 + np.exp(-x))\n",
    "\n",
    "def sigmoid_d(x):            #differential\n",
    "    return sigmoid(x)*(1 - sigmoid(x))\n",
    "\n",
    "z_sigmoid = []\n",
    "zd_sigmoid = []\n",
    "\n",
    "for i in range(1,6):\n",
    "    z_sigmoid.append(sigmoid(i))\n",
    "    zd_.append(sigmoid_d(i))\n",
    "\n",
    "print(z)\n",
    "print(zd)\n"
   ]
  },
  {
   "cell_type": "code",
   "execution_count": 4,
   "metadata": {},
   "outputs": [
    {
     "name": "stdout",
     "output_type": "stream",
     "text": [
      "[1, 2, 3, 4, 5]\n",
      "[1, 1, 1, 1, 1]\n"
     ]
    }
   ],
   "source": [
    "def relu(x):\n",
    "    if x < 0:\n",
    "        return 0\n",
    "    else:\n",
    "        return x\n",
    "\n",
    "def relu_d(x):   #differential\n",
    "    if x < 0:\n",
    "        return 0\n",
    "    else:\n",
    "        return 1\n",
    "\n",
    "z_relu = []\n",
    "zd_relu = []\n",
    "\n",
    "for i in range(1,6):\n",
    "    z_relu.append(relu(i))\n",
    "\n",
    "for i in range(1,6):\n",
    "    zd_relu.append(relu_d(i))\n",
    "    \n",
    "print(z_relu)\n",
    "print(zd_relu)"
   ]
  },
  {
   "cell_type": "code",
   "execution_count": null,
   "metadata": {},
   "outputs": [],
   "source": [
    "def tanh(x):\n",
    "    return np.tanh(x)\n",
    "\n",
    "def tanh(x):\n",
    "    return 1 - np.tanh(x) * np.tanh(x)\n",
    "\n",
    "z_tanh = []\n",
    "zd_tanh = []\n",
    "\n",
    "for i in range(1,6):\n",
    "    z_tanh.append(f2(i))\n",
    "\n",
    "for i in range(1,6):\n",
    "    zd_tanh.append(df2(i))\n",
    "    \n",
    "print(z_tanh)\n",
    "print(zd_tanh)"
   ]
  }
 ],
 "metadata": {
  "kernelspec": {
   "display_name": "Python 3",
   "language": "python",
   "name": "python3"
  },
  "language_info": {
   "codemirror_mode": {
    "name": "ipython",
    "version": 3
   },
   "file_extension": ".py",
   "mimetype": "text/x-python",
   "name": "python",
   "nbconvert_exporter": "python",
   "pygments_lexer": "ipython3",
   "version": "3.7.9"
  }
 },
 "nbformat": 4,
 "nbformat_minor": 4
}
