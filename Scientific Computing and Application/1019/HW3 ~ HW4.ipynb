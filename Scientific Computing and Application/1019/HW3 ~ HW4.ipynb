{
 "cells": [
  {
   "cell_type": "code",
   "execution_count": 6,
   "metadata": {},
   "outputs": [
    {
     "name": "stdout",
     "output_type": "stream",
     "text": [
      "[[1.02241106]]\n"
     ]
    }
   ],
   "source": [
    "import numpy as np\n",
    "np.random.seed(1)\n",
    "\n",
    "def f1(x):\n",
    "    return 1/(1 + np.exp(-x))\n",
    "\n",
    "def df1(x):\n",
    "    return f1(x)*(1-f1(x))\n",
    "\n",
    "X = np.array([[0, 0, 1], [1,1,1],[1,0,1],[0,1,1]])\n",
    "Y = np.array([[0],[1],[1],[0]])\n",
    "\n",
    "w = (2*np.random.random((3,1)) - 1)*0.25\n",
    "b = (2*np.random.random(1) - 1)*0.25\n",
    "\n",
    "X1 = f1(np.dot(X,w)+b) \n",
    "error1 = np.sqrt(np.dot(np.transpose(Y-X1) , Y-X1))\n",
    "\n",
    "print(error1)\n"
   ]
  },
  {
   "cell_type": "code",
   "execution_count": null,
   "metadata": {},
   "outputs": [],
   "source": []
  }
 ],
 "metadata": {
  "kernelspec": {
   "display_name": "Python 3",
   "language": "python",
   "name": "python3"
  },
  "language_info": {
   "codemirror_mode": {
    "name": "ipython",
    "version": 3
   },
   "file_extension": ".py",
   "mimetype": "text/x-python",
   "name": "python",
   "nbconvert_exporter": "python",
   "pygments_lexer": "ipython3",
   "version": "3.7.9"
  }
 },
 "nbformat": 4,
 "nbformat_minor": 4
}
