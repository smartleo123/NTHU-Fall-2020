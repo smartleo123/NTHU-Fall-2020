{
 "cells": [
  {
   "cell_type": "code",
   "execution_count": 3,
   "metadata": {},
   "outputs": [
    {
     "name": "stdout",
     "output_type": "stream",
     "text": [
      "[0.73105858 0.88079708 0.95257413 0.98201379 0.99330715]\n",
      "[0.19661193 0.10499359 0.04517666 0.01766271 0.00664806]\n"
     ]
    }
   ],
   "source": [
    "import numpy as np \n",
    "\n",
    "def f1(x):\n",
    "    return 1/(1 + np.exp(-x))\n",
    "\n",
    "def df1(x):\n",
    "    return f1(x)*(1 - f1(x))\n",
    "\n",
    "z = np.linspace(1, 5, 5)\n",
    "\n",
    "z_f1 = f1(z)\n",
    "z_df1 = df1(z)\n",
    "\n",
    "print(z_f1)\n",
    "print(z_df1)"
   ]
  },
  {
   "cell_type": "code",
   "execution_count": null,
   "metadata": {},
   "outputs": [],
   "source": []
  }
 ],
 "metadata": {
  "kernelspec": {
   "display_name": "Python 3",
   "language": "python",
   "name": "python3"
  },
  "language_info": {
   "codemirror_mode": {
    "name": "ipython",
    "version": 3
   },
   "file_extension": ".py",
   "mimetype": "text/x-python",
   "name": "python",
   "nbconvert_exporter": "python",
   "pygments_lexer": "ipython3",
   "version": "3.7.9"
  }
 },
 "nbformat": 4,
 "nbformat_minor": 4
}
