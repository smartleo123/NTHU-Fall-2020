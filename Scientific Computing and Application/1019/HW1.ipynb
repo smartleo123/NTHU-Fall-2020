{
 "cells": [
  {
   "cell_type": "code",
   "execution_count": 1,
   "metadata": {},
   "outputs": [],
   "source": [
    "import numpy as np\n",
    "from numpy.linalg import inv\n",
    "import matplotlib.pyplot as plt"
   ]
  },
  {
   "cell_type": "code",
   "execution_count": 2,
   "metadata": {},
   "outputs": [],
   "source": [
    "np.random.seed(1)\n",
    "x = np.linspace(-1, 1, 200)\n",
    "noise = np.random.normal(0, 0.1, 200)\n",
    "y = 2 +  x + 2 * np.power(x, 2) + noise\n",
    "\n",
    "x_train = x[0:160]\n",
    "y_train = y[0:160]\n",
    "\n",
    "x_test = x[160:]\n",
    "y_test = y[160:]"
   ]
  },
  {
   "cell_type": "code",
   "execution_count": 3,
   "metadata": {},
   "outputs": [],
   "source": [
    "def calculate_H(data, degree):\n",
    "    H = np.column_stack([np.power(data, i) for i in range(0, degree+1)])\n",
    "    return H\n",
    "    \n",
    "def calculate_A(H, data, lamda):\n",
    "    HH = np.dot(np.transpose(H), H)\n",
    "    temp = inv(HH + lamda * np.identity(HH.shape[0]))\n",
    "    A = np.dot(np.dot(temp, np.transpose(H)), data)\n",
    "    return A\n",
    "\n",
    "def calculate_HA(H, A):\n",
    "    HA = np.dot(H, A)\n",
    "    return HA\n",
    "\n",
    "def calculate_error(data, HA):\n",
    "    error = np.sqrt(np.sum(np.dot(np.transpose(data - HA), data - HA)))\n",
    "    return error\n",
    "\n",
    "def summary_data(degree,lamda):\n",
    "    H_train = calculate_H(x_train, degree)\n",
    "    H_test = calculate_H(x_test, degree)\n",
    "\n",
    "    A = calculate_A(H_train, y_train, lamda)\n",
    "\n",
    "    HA_train = calculate_HA(H_train, A)\n",
    "    HA_test = calculate_HA(H_test, A)\n",
    "\n",
    "    summary_data.error_train = calculate_error(y_train, HA_train)\n",
    "    summary_data.error_test = calculate_error(y_test, HA_test)"
   ]
  },
  {
   "cell_type": "code",
   "execution_count": 4,
   "metadata": {},
   "outputs": [
    {
     "name": "stdout",
     "output_type": "stream",
     "text": [
      "[1.1358438890695892, 1.2265810379999043, 1.2848940381051797, 1.3462410296992497]\n",
      "[1.0090102488172026, 0.7814272508455081, 1.0089147902118674, 1.3473299252979487]\n"
     ]
    }
   ],
   "source": [
    "error_train = []\n",
    "error_test = []\n",
    "\n",
    "lamdas = [0.1,0.5,0.7,0.9]\n",
    "for i in lamdas:\n",
    "    summary_data(50, i)\n",
    "    error_train.append(summary_data.error_train)\n",
    "    error_test.append(summary_data.error_test)\n",
    "\n",
    "print(error_train)\n",
    "print(error_test)\n"
   ]
  },
  {
   "cell_type": "code",
   "execution_count": null,
   "metadata": {},
   "outputs": [],
   "source": []
  }
 ],
 "metadata": {
  "kernelspec": {
   "display_name": "Python 3",
   "language": "python",
   "name": "python3"
  },
  "language_info": {
   "codemirror_mode": {
    "name": "ipython",
    "version": 3
   },
   "file_extension": ".py",
   "mimetype": "text/x-python",
   "name": "python",
   "nbconvert_exporter": "python",
   "pygments_lexer": "ipython3",
   "version": "3.7.9"
  }
 },
 "nbformat": 4,
 "nbformat_minor": 4
}
