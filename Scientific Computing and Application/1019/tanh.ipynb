{
 "cells": [
  {
   "cell_type": "code",
   "execution_count": 1,
   "metadata": {},
   "outputs": [
    {
     "name": "stdout",
     "output_type": "stream",
     "text": [
      "[0.76159416 0.96402758 0.99505475 0.9993293  0.9999092 ]\n",
      "[4.19974342e-01 7.06508249e-02 9.86603717e-03 1.34095068e-03\n",
      " 1.81583231e-04]\n"
     ]
    }
   ],
   "source": [
    "import numpy as np \n",
    "\n",
    "def f3(x):\n",
    "    return np.tanh(x)\n",
    "\n",
    "def df3(x):\n",
    "    return 1 - np.tanh(x)*np.tanh(x)\n",
    "\n",
    "z = np.linspace(1, 5, 5)\n",
    "z_f3 = f3(z)\n",
    "z_df3 = df3(z)\n",
    "\n",
    "print(z_f3)\n",
    "print(z_df3)\n"
   ]
  },
  {
   "cell_type": "code",
   "execution_count": null,
   "metadata": {},
   "outputs": [],
   "source": []
  }
 ],
 "metadata": {
  "kernelspec": {
   "display_name": "Python 3",
   "language": "python",
   "name": "python3"
  },
  "language_info": {
   "codemirror_mode": {
    "name": "ipython",
    "version": 3
   },
   "file_extension": ".py",
   "mimetype": "text/x-python",
   "name": "python",
   "nbconvert_exporter": "python",
   "pygments_lexer": "ipython3",
   "version": "3.7.9"
  }
 },
 "nbformat": 4,
 "nbformat_minor": 4
}
