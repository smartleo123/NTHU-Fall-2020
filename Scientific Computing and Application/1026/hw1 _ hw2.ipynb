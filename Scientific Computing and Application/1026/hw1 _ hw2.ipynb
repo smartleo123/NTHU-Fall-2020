{
 "cells": [
  {
   "cell_type": "code",
   "execution_count": 1,
   "metadata": {},
   "outputs": [
    {
     "name": "stdout",
     "output_type": "stream",
     "text": [
      "[[ 4.42548262]\n",
      " [-0.19379309]\n",
      " [-1.12555267]] [-0.97444357]\n",
      "[[0.1987174]]\n"
     ]
    }
   ],
   "source": [
    "import numpy as np\n",
    "import matplotlib.pyplot as plt\n",
    "np.random.seed(1)\n",
    "\n",
    "def sigmoid(x):\n",
    "    return 1/(1 + np.exp(-x))\n",
    "\n",
    "def sigmoid_d(x):          #differential of sigmoid\n",
    "    return np.exp(-x)/np.square(1 + np.exp(-x))\n",
    "\n",
    "X = np.array([[0, 0, 1], \n",
    "              [1,1,1],\n",
    "              [1,0,1],\n",
    "              [0,1,1]]) # 4x3 matrix\n",
    "Y = np.array([[0],\n",
    "              [1],\n",
    "              [1],\n",
    "              [0]]) # 4x1 vector\n",
    "\n",
    "w = (2 * np.random.random((3,1)) - 1) * 0.25\n",
    "b = (2 * np.random.random(1) - 1) * 0.25\n",
    "\n",
    "# X1 = sigmoid(np.dot(X,w)+b) \n",
    "# error1 = np.sqrt(np.dot(np.transpose(Y-X1) , Y-X1))\n",
    "\n",
    "# print(error1)\n",
    "\n",
    "\n",
    "epochs=5000\n",
    "eta=0.01\n",
    "X0 = X\n",
    "\n",
    "error_list = []\n",
    "\n",
    "for  k in range(epochs): \n",
    "    X1 = sigmoid(np.dot(X0,w)+b)  \n",
    "    X1_error = X1-Y\n",
    "    X1_delta = X1_error * sigmoid_d(X1)\n",
    "# update weights\n",
    "    w = w - eta * np.dot(np.transpose(X0),X1_delta)\n",
    "    c = np.ones(len(X1_delta))\n",
    "    b = b - eta * np.dot(c,X1_delta)\n",
    "    error = np.sqrt(np.dot(np.transpose(Y-X1) , Y-X1))\n",
    "    error_list.append(error)\n",
    "    \n",
    "print (w,b)\n",
    "\n",
    "print(error)\n"
   ]
  },
  {
   "cell_type": "code",
   "execution_count": 15,
   "metadata": {},
   "outputs": [
    {
     "data": {
      "image/png": "[encoded data removed]",
      "text/plain": [
       "<Figure size 432x288 with 1 Axes>"
      ]
     },
     "metadata": {
      "needs_background": "light"
     },
     "output_type": "display_data"
    }
   ],
   "source": [
    "plt.title('Graph of error')\n",
    "plt.xlabel('epochs')\n",
    "plt.ylabel('error')\n",
    "epoch_list = [i for i in range(5000)]\n",
    "error_list = np.array(error_list)\n",
    "error_list = error_list.flatten()\n",
    "error_list = error_list.tolist()\n",
    "\n",
    "plt.plot(epoch_list, error_list)\n",
    "plt.show()"
   ]
  },
  {
   "cell_type": "code",
   "execution_count": 23,
   "metadata": {},
   "outputs": [
    {
     "name": "stdout",
     "output_type": "stream",
     "text": [
      "[0.89394565]\n",
      "0.10605434890049603\n"
     ]
    }
   ],
   "source": [
    "x_test = np.array([1,1,1])\n",
    "y_predict = sigmoid(np.dot(x_test,w) + b)\n",
    "print(y_predict)\n",
    "y0 = [1]\n",
    "print(np.sqrt(np.dot(np.transpose(y_predict - y0) , y_predict - y0)))"
   ]
  },
  {
   "cell_type": "code",
   "execution_count": null,
   "metadata": {},
   "outputs": [],
   "source": []
  }
 ],
 "metadata": {
  "kernelspec": {
   "display_name": "Python 3",
   "language": "python",
   "name": "python3"
  },
  "language_info": {
   "codemirror_mode": {
    "name": "ipython",
    "version": 3
   },
   "file_extension": ".py",
   "mimetype": "text/x-python",
   "name": "python",
   "nbconvert_exporter": "python",
   "pygments_lexer": "ipython3",
   "version": "3.8.3"
  }
 },
 "nbformat": 4,
 "nbformat_minor": 4
}
