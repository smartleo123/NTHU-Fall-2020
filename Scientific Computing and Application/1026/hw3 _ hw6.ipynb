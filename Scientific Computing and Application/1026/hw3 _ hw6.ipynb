{
 "cells": [
  {
   "cell_type": "code",
   "execution_count": 1,
   "metadata": {},
   "outputs": [],
   "source": [
    "import numpy as np\n",
    "import matplotlib.pyplot as plt\n",
    "np.random.seed(1)"
   ]
  },
  {
   "cell_type": "code",
   "execution_count": 2,
   "metadata": {},
   "outputs": [],
   "source": [
    "# three kinds of activation functions\n",
    "def fun(x, dev):\n",
    "    if dev == 'sigmoid':\n",
    "        return 1 / (1 + np.exp(-x))\n",
    "    elif dev == 'tanh':\n",
    "        return np.tanh(x)\n",
    "    elif dev == 'relu':\n",
    "        return x if x >= 0 else 0\n",
    "\n",
    "# differential of fun\n",
    "def dfun(x, dev):\n",
    "    if dev == 'sigmoid':\n",
    "        fx = fun(x, 'sigmoid')\n",
    "        return fx * (1 - fx)\n",
    "    elif dev == 'tanh':\n",
    "        return 1 - np.tanh(x) ** 2\n",
    "    elif dev == 'relu':\n",
    "        return 1 if x >= 0 else 0"
   ]
  },
  {
   "cell_type": "code",
   "execution_count": 3,
   "metadata": {},
   "outputs": [
    {
     "name": "stdout",
     "output_type": "stream",
     "text": [
      "[[0.9834044  1.0440649  0.90002287 ... 0.90781096 0.93396608 1.0756285 ]\n",
      " [0.91966937 0.98422153 1.09157791 ... 0.92934571 1.01786111 1.03995167]\n",
      " [0.92046689 0.9828112  1.03888003 ... 1.09296801 1.0326883  1.02433914]\n",
      " ...\n",
      " [0.94520883 0.90022297 1.03714331 ... 1.0066807  1.09264831 1.0518108 ]\n",
      " [0.96510806 0.91716986 1.0072048  ... 1.0683796  1.02778956 1.01312629]\n",
      " [0.96142842 1.07535541 1.09776438 ... 0.98790782 0.93369539 1.00581744]]\n",
      "Help on built-in function random:\n",
      "\n",
      "random(...) method of numpy.random.mtrand.RandomState instance\n",
      "    random(size=None)\n",
      "    \n",
      "    Return random floats in the half-open interval [0.0, 1.0). Alias for\n",
      "    `random_sample` to ease forward-porting to the new random API.\n",
      "\n"
     ]
    }
   ],
   "source": [
    "mp1=100 # 100 lines\n",
    "np1=30 # each line with 30 points\n",
    "noise1 = (2.0 * np.random.random((mp1,np1)) - 1) * 0.1\n",
    "X_train1=np.ones((mp1,np1)) + noise1\n",
    "print(X_train1)\n",
    "\n",
    "help(np.random.random)"
   ]
  },
  {
   "cell_type": "code",
   "execution_count": 4,
   "metadata": {},
   "outputs": [
    {
     "name": "stdout",
     "output_type": "stream",
     "text": [
      "24\n",
      "[[1.05869693 0.90717583 0.93827178 ... 0.93604671 1.08771013 1.09415003]\n",
      " [0.96089705 1.07249728 1.06843582 ... 0.95538461 1.06895227 0.98332383]\n",
      " [1.0001968  1.04592468 0.95174434 ... 0.97601424 0.93526761 0.98376703]\n",
      " ...\n",
      " [1.07602399 0.98766342 1.01726596 ... 0.91504653 0.9233188  1.08276081]\n",
      " [1.07395428 0.95839049 0.92039999 ... 0.94419909 1.04724729 1.01697473]\n",
      " [1.00510722 1.0322889  1.02641352 ... 0.9052382  1.0901656  1.01398353]]\n"
     ]
    }
   ],
   "source": [
    "mp1 = 100\n",
    "np1 = 30\n",
    "noise1 = (2.0 * np.random.random((mp1, np1)) - 1) * 0.1\n",
    "X_train1 = np.ones((mp1, np1)) + noise1\n",
    "\n",
    "X_train2 = np.ones((mp1, np1))\n",
    "for row in X_train2:\n",
    "    randnum = int(np.random.random(1) * 25 + 1) # the key point : )\n",
    "    row[randnum] = 0.1\n",
    "    row[randnum + 1] = 0.1\n",
    "    row[randnum + 2] = 0.1\n",
    "\n",
    "print(randnum)\n",
    "\n",
    "X_train2 = X_train2 + noise1\n",
    "print(X_train2)\n",
    "\n",
    "# add dimension with respect to rows\n",
    "Y_train1 = np.zeros(mp1)[:, np.newaxis]\n",
    "Y_train2 = np.ones(mp1)[:, np.newaxis]\n",
    "\n",
    "X_train = np.concatenate((X_train1, X_train2), axis=0)\n",
    "Y_train = np.concatenate((Y_train1, Y_train2), axis=0)\n",
    "\n",
    "w = (2 * np.random.random((np1,1)) - 1) * 0.25\n",
    "b = (2 * np.random.random(1) - 1) * 0.25"
   ]
  },
  {
   "cell_type": "code",
   "execution_count": 5,
   "metadata": {},
   "outputs": [
    {
     "data": {
      "text/plain": [
       "array([[7.36525856]])"
      ]
     },
     "execution_count": 5,
     "metadata": {},
     "output_type": "execute_result"
    }
   ],
   "source": [
    "X1 = fun(np.dot(X_train, w) + b, 'sigmoid')\n",
    "error1 = np.sqrt(np.dot((Y_train - X1).T, Y_train - X1))\n",
    "error1"
   ]
  },
  {
   "cell_type": "code",
   "execution_count": 6,
   "metadata": {},
   "outputs": [
    {
     "name": "stdout",
     "output_type": "stream",
     "text": [
      "error = \n",
      "[[0.05501589]]\n"
     ]
    }
   ],
   "source": [
    "epochs = 5000\n",
    "eta = 0.1\n",
    "X0 = np.copy(X_train)\n",
    "b0 = np.copy(b)\n",
    "w0 = np.copy(w)\n",
    "\n",
    "error_array = []\n",
    "epochs_array = list(range(5000))\n",
    "\n",
    "for k in range(epochs):\n",
    "    X1 = fun(np.dot(X0, w0) + b0, 'sigmoid')\n",
    "    X1_error = X1 - Y_train\n",
    "    X1_delta = X1_error * dfun(X1, 'sigmoid')\n",
    "    \n",
    "    #update weights\n",
    "    w0 = w0 - eta * np.dot(X0.T, X1_delta)\n",
    "    c = np.ones(len(X1_delta))\n",
    "    b0 = b0 - eta * np.dot(c, X1_delta)\n",
    "    \n",
    "    error = np.sqrt((np.dot((Y_train - X1).T, Y_train - X1)) / len(X1))\n",
    "    error_array.append(error[0][0])\n",
    "\n",
    "print('error = ')\n",
    "print(error)"
   ]
  },
  {
   "cell_type": "code",
   "execution_count": 7,
   "metadata": {},
   "outputs": [
    {
     "name": "stdout",
     "output_type": "stream",
     "text": [
      "Output test Training: [1. 1. 1. 1. 1. 1. 1. 1. 1. 1. 1. 1. 1. 1. 1. 1. 1. 1. 1. 1. 1. 1. 1. 1.\n",
      " 1. 1. 1. 1. 1. 1.]\n",
      "Output results:\n",
      "Predict=  [5.51554984e-06]\n",
      "Output test Training: [1.  1.  1.  1.  1.  0.1 1.  1.  1.  1.  1.  1.  1.  1.  1.  1.  1.  1.\n",
      " 1.  1.  1.  1.  1.  1.  1.  1.  1.  1.  1.  1. ]\n",
      "Output results Predict=: [0.02100317]\n"
     ]
    }
   ],
   "source": [
    "test1=np.ones(np1)\n",
    "\n",
    "print(\"Output test Training:\", test1)\n",
    "\n",
    "print(\"Output results:\")\n",
    "\n",
    "X1=fun(np.dot(test1,w0)+b0, 'sigmoid')\n",
    "\n",
    "print(\"Predict= \",X1)\n",
    "\n",
    "test1[5]=0.1\n",
    "\n",
    "print(\"Output test Training:\" ,test1)\n",
    "\n",
    "X1=fun(np.dot(test1,w0)+b0, 'sigmoid')\n",
    "\n",
    "print(\"Output results Predict=:\",X1)"
   ]
  }
 ],
 "metadata": {
  "kernelspec": {
   "display_name": "Python 3",
   "language": "python",
   "name": "python3"
  },
  "language_info": {
   "codemirror_mode": {
    "name": "ipython",
    "version": 3
   },
   "file_extension": ".py",
   "mimetype": "text/x-python",
   "name": "python",
   "nbconvert_exporter": "python",
   "pygments_lexer": "ipython3",
   "version": "3.8.3"
  }
 },
 "nbformat": 4,
 "nbformat_minor": 4
}
