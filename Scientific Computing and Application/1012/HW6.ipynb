{
 "cells": [
  {
   "cell_type": "markdown",
   "metadata": {},
   "source": [
    "![title](hw_img/hw6.jpg)"
   ]
  },
  {
   "cell_type": "code",
   "execution_count": 2,
   "metadata": {},
   "outputs": [],
   "source": [
    "import numpy as np\n",
    "from numpy.linalg import inv\n",
    "import matplotlib.pyplot as plt"
   ]
  },
  {
   "cell_type": "code",
   "execution_count": 3,
   "metadata": {},
   "outputs": [],
   "source": [
    "np.random.seed(1)\n",
    "x = np.linspace(-1, 1, 200)\n",
    "noise = np.random.normal(0, 0.1, 200)\n",
    "y = 2 +  x + 2 * np.power(x, 2) + noise\n",
    "\n",
    "x_train = x[0:160]\n",
    "y_train = y[0:160]\n",
    "\n",
    "x_test = x[160:]\n",
    "y_test = y[160:]"
   ]
  },
  {
   "cell_type": "code",
   "execution_count": 4,
   "metadata": {},
   "outputs": [],
   "source": [
    "def calculate_H(data, degree):\n",
    "    H = np.column_stack([np.power(data, i) for i in range(0, degree+1)])\n",
    "    return H\n",
    "    \n",
    "def calculate_A(H, data, lamda):\n",
    "    HH = np.dot(np.transpose(H), H)\n",
    "    temp = inv(HH + lamda * np.identity(HH.shape[0]))\n",
    "    A = np.dot(np.dot(temp, np.transpose(H)), data)\n",
    "    return A\n",
    "\n",
    "def calculate_HA(H, A):\n",
    "    HA = np.dot(H, A)\n",
    "    return HA\n",
    "\n",
    "def calculate_error(data, HA):\n",
    "    error = np.sqrt(np.sum(np.dot(np.transpose(data - HA), data - HA)))\n",
    "    return error\n",
    "\n",
    "def summary_data(degree,lamda):\n",
    "    H_train = calculate_H(x_train, degree)\n",
    "    H_test = calculate_H(x_test, degree)\n",
    "\n",
    "    A = calculate_A(H_train, y_train, lamda)\n",
    "\n",
    "    HA_train = calculate_HA(H_train, A)\n",
    "    HA_test = calculate_HA(H_test, A)\n",
    "\n",
    "    summary_data.error_train = calculate_error(y_train, HA_train)\n",
    "    summary_data.error_test = calculate_error(y_test, HA_test)\n",
    "    "
   ]
  },
  {
   "cell_type": "code",
   "execution_count": 5,
   "metadata": {},
   "outputs": [
    {
     "name": "stdout",
     "output_type": "stream",
     "text": [
      "[1.1159683993056755, 1.1292374895115158, 1.1380414340977902, 1.147021862602357, 1.1569290116053597, 1.1678331961309647, 1.1796522755762635, 1.1922708913233697, 1.2055734986991493, 1.2194540086613963, 1.2338180981322844, 1.2485830628738865, 1.263676864777761, 1.279036971467427, 1.2946092093724315, 1.3103467084186262, 1.3262089602940825, 1.342160990100901, 1.3581726328993524, 1.3742179040919136]\n",
      "[2.062021303064212, 0.8078533516098724, 1.0351899021956825, 1.0430040340928197, 0.9852052591168673, 0.9120622191436849, 0.8451057472883131, 0.7958136506232523, 0.7705321702761275, 0.7714725252526788, 0.7971418006630359, 0.8435199290195022, 0.9056896386682649, 0.9790791618218608, 1.0600053956992066, 1.1457233563794682, 1.2342686328094568, 1.3242629562254769, 1.4147480165074768, 1.5050605476322538]\n"
     ]
    },
    {
     "data": {
      "text/plain": [
       "[<matplotlib.lines.Line2D at 0x253a1b49bc8>]"
      ]
     },
     "execution_count": 5,
     "metadata": {},
     "output_type": "execute_result"
    },
    {
     "data": {
      "image/png": "[encoded data removed]",
      "text/plain": [
       "<Figure size 432x288 with 1 Axes>"
      ]
     },
     "metadata": {
      "needs_background": "light"
     },
     "output_type": "display_data"
    }
   ],
   "source": [
    "error_train = []\n",
    "error_test = []\n",
    "\n",
    "lamdas = np.linspace(0.01,0.99,20)\n",
    "for i in lamdas:\n",
    "    summary_data(50, i)\n",
    "    error_train.append(summary_data.error_train)\n",
    "    error_test.append(summary_data.error_test)\n",
    "\n",
    "print(error_train)\n",
    "print(error_test)\n",
    "\n",
    "plt.plot(lamdas, error_train, 'b')\n",
    "plt.plot(lamdas, error_test, 'orange')"
   ]
  },
  {
   "cell_type": "code",
   "execution_count": null,
   "metadata": {},
   "outputs": [],
   "source": []
  }
 ],
 "metadata": {
  "kernelspec": {
   "display_name": "Python 3",
   "language": "python",
   "name": "python3"
  },
  "language_info": {
   "codemirror_mode": {
    "name": "ipython",
    "version": 3
   },
   "file_extension": ".py",
   "mimetype": "text/x-python",
   "name": "python",
   "nbconvert_exporter": "python",
   "pygments_lexer": "ipython3",
   "version": "3.7.6"
  }
 },
 "nbformat": 4,
 "nbformat_minor": 4
}
