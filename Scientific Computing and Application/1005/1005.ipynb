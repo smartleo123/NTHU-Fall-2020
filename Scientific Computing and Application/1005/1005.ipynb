{
 "cells": [
  {
   "cell_type": "markdown",
   "metadata": {},
   "source": [
    "### HW1"
   ]
  },
  {
   "cell_type": "markdown",
   "metadata": {},
   "source": [
    "![title](hw_img/hw1.jpg)"
   ]
  },
  {
   "cell_type": "code",
   "execution_count": 44,
   "metadata": {},
   "outputs": [
    {
     "name": "stdout",
     "output_type": "stream",
     "text": [
      "[[ 5.  -3.5]\n",
      " [-3.5  2.5]]\n"
     ]
    }
   ],
   "source": [
    "import numpy as np\n",
    "\n",
    "x = np.array([[1., 2.], [3., 4.]])\n",
    "\n",
    "x_trans = x.transpose()\n",
    "\n",
    "a = np.dot(x_trans,x) # dot product\n",
    "\n",
    "inverse = np.linalg.inv(a) \n",
    "\n",
    "print(inverse)"
   ]
  },
  {
   "cell_type": "markdown",
   "metadata": {},
   "source": [
    "### HW2"
   ]
  },
  {
   "cell_type": "markdown",
   "metadata": {},
   "source": [
    "![title](hw_img/hw2.jpg)"
   ]
  },
  {
   "cell_type": "code",
   "execution_count": 33,
   "metadata": {},
   "outputs": [
    {
     "name": "stdout",
     "output_type": "stream",
     "text": [
      "[0, 0, 0, 0, 0, 0.11111111111111116, 0.33333333333333326, 0.5555555555555554, 0.7777777777777777, 1.0]\n"
     ]
    },
    {
     "data": {
      "text/plain": [
       "[<matplotlib.lines.Line2D at 0x288d6f6e448>]"
      ]
     },
     "execution_count": 33,
     "metadata": {},
     "output_type": "execute_result"
    },
    {
     "data": {
      "image/png": "[encoded data removed]",
      "text/plain": [
       "<Figure size 432x288 with 1 Axes>"
      ]
     },
     "metadata": {
      "needs_background": "light"
     },
     "output_type": "display_data"
    }
   ],
   "source": [
    "import matplotlib.pyplot as plt\n",
    "\n",
    "def f(x):\n",
    "    if x > 0:\n",
    "        return x\n",
    "    else:\n",
    "        return 0\n",
    "\n",
    "y = []\n",
    "x = np.linspace(-1,1,10) # x range from -1 to 1, divided equally by 10\n",
    "y = [f(x[i]) for i in range(len(x))]\n",
    "print(y)\n",
    "plt.plot(x,y,'r')\n",
    "\n",
    "\n"
   ]
  },
  {
   "cell_type": "markdown",
   "metadata": {},
   "source": [
    "### HW3"
   ]
  },
  {
   "cell_type": "markdown",
   "metadata": {},
   "source": [
    "![title](hw_img/hw3.jpg)"
   ]
  },
  {
   "cell_type": "code",
   "execution_count": 50,
   "metadata": {},
   "outputs": [
    {
     "data": {
      "text/plain": [
       "[<matplotlib.lines.Line2D at 0x288d74cecc8>]"
      ]
     },
     "execution_count": 50,
     "metadata": {},
     "output_type": "execute_result"
    },
    {
     "data": {
      "image/png": "[encoded data removed]",
      "text/plain": [
       "<Figure size 432x288 with 1 Axes>"
      ]
     },
     "metadata": {
      "needs_background": "light"
     },
     "output_type": "display_data"
    }
   ],
   "source": [
    "import numpy as np\n",
    "import pylab\n",
    "import matplotlib.pyplot as plt\n",
    "\n",
    "np.random.seed(1)\n",
    "x = np.linspace(-1,1,100)\n",
    "signal = 2 + x + 2 * x * x\n",
    "noise = np.random.normal(0, 0.2, 100)\n",
    "y = signal + noise\n",
    "\n",
    "plt.plot(x,y,'b')\n",
    "\n",
    "x_train = x[0:80]\n",
    "y_train = y[0:80]\n",
    "x_pre = x[80:]\n",
    "y_pre = y[80:]\n",
    "\n",
    "'''\n",
    "pylab.plot(x_train,y_train,'g.')\n",
    "pylab.plot(x_pre,y_pre,'r.')\n",
    "'''\n",
    "\n",
    "plt.plot(x_train,y_train,'g.')\n",
    "plt.plot(x_pre,y_pre,'r.')\n",
    "\n",
    "\n",
    "\n"
   ]
  },
  {
   "cell_type": "markdown",
   "metadata": {},
   "source": [
    "### HW4"
   ]
  },
  {
   "cell_type": "markdown",
   "metadata": {},
   "source": [
    "![title](hw_img/hw4_hw5.jpg)"
   ]
  },
  {
   "cell_type": "code",
   "execution_count": 52,
   "metadata": {},
   "outputs": [
    {
     "name": "stdout",
     "output_type": "stream",
     "text": [
      "[[ 1.  0.  0.]\n",
      " [ 1.  1.  1.]\n",
      " [ 1.  2.  4.]\n",
      " [ 1.  3.  9.]\n",
      " [ 1.  4. 16.]\n",
      " [ 1.  5. 25.]]\n"
     ]
    }
   ],
   "source": [
    "x = np.array([0,1, 2, 3, 4, 5])\n",
    "\n",
    "x2 = np.power(x,2)\n",
    "\n",
    "one = np.ones([6,1]) # create an array which consists of 80 of '1'\n",
    "\n",
    "H = np.column_stack((one,x,x2))\n",
    "print(H)\n"
   ]
  },
  {
   "cell_type": "markdown",
   "metadata": {},
   "source": [
    "### HW5"
   ]
  },
  {
   "cell_type": "code",
   "execution_count": 47,
   "metadata": {},
   "outputs": [
    {
     "name": "stdout",
     "output_type": "stream",
     "text": [
      "[[ 1.00000000e+00 -1.00000000e+00  1.00000000e+00]\n",
      " [ 1.00000000e+00 -9.79797980e-01  9.60004081e-01]\n",
      " [ 1.00000000e+00 -9.59595960e-01  9.20824406e-01]\n",
      " [ 1.00000000e+00 -9.39393939e-01  8.82460973e-01]\n",
      " [ 1.00000000e+00 -9.19191919e-01  8.44913784e-01]\n",
      " [ 1.00000000e+00 -8.98989899e-01  8.08182838e-01]\n",
      " [ 1.00000000e+00 -8.78787879e-01  7.72268136e-01]\n",
      " [ 1.00000000e+00 -8.58585859e-01  7.37169677e-01]\n",
      " [ 1.00000000e+00 -8.38383838e-01  7.02887460e-01]\n",
      " [ 1.00000000e+00 -8.18181818e-01  6.69421488e-01]\n",
      " [ 1.00000000e+00 -7.97979798e-01  6.36771758e-01]\n",
      " [ 1.00000000e+00 -7.77777778e-01  6.04938272e-01]\n",
      " [ 1.00000000e+00 -7.57575758e-01  5.73921028e-01]\n",
      " [ 1.00000000e+00 -7.37373737e-01  5.43720029e-01]\n",
      " [ 1.00000000e+00 -7.17171717e-01  5.14335272e-01]\n",
      " [ 1.00000000e+00 -6.96969697e-01  4.85766758e-01]\n",
      " [ 1.00000000e+00 -6.76767677e-01  4.58014488e-01]\n",
      " [ 1.00000000e+00 -6.56565657e-01  4.31078461e-01]\n",
      " [ 1.00000000e+00 -6.36363636e-01  4.04958678e-01]\n",
      " [ 1.00000000e+00 -6.16161616e-01  3.79655137e-01]\n",
      " [ 1.00000000e+00 -5.95959596e-01  3.55167840e-01]\n",
      " [ 1.00000000e+00 -5.75757576e-01  3.31496786e-01]\n",
      " [ 1.00000000e+00 -5.55555556e-01  3.08641975e-01]\n",
      " [ 1.00000000e+00 -5.35353535e-01  2.86603408e-01]\n",
      " [ 1.00000000e+00 -5.15151515e-01  2.65381084e-01]\n",
      " [ 1.00000000e+00 -4.94949495e-01  2.44975003e-01]\n",
      " [ 1.00000000e+00 -4.74747475e-01  2.25385165e-01]\n",
      " [ 1.00000000e+00 -4.54545455e-01  2.06611570e-01]\n",
      " [ 1.00000000e+00 -4.34343434e-01  1.88654219e-01]\n",
      " [ 1.00000000e+00 -4.14141414e-01  1.71513111e-01]\n",
      " [ 1.00000000e+00 -3.93939394e-01  1.55188246e-01]\n",
      " [ 1.00000000e+00 -3.73737374e-01  1.39679625e-01]\n",
      " [ 1.00000000e+00 -3.53535354e-01  1.24987246e-01]\n",
      " [ 1.00000000e+00 -3.33333333e-01  1.11111111e-01]\n",
      " [ 1.00000000e+00 -3.13131313e-01  9.80512193e-02]\n",
      " [ 1.00000000e+00 -2.92929293e-01  8.58075707e-02]\n",
      " [ 1.00000000e+00 -2.72727273e-01  7.43801653e-02]\n",
      " [ 1.00000000e+00 -2.52525253e-01  6.37690032e-02]\n",
      " [ 1.00000000e+00 -2.32323232e-01  5.39740843e-02]\n",
      " [ 1.00000000e+00 -2.12121212e-01  4.49954086e-02]\n",
      " [ 1.00000000e+00 -1.91919192e-01  3.68329762e-02]\n",
      " [ 1.00000000e+00 -1.71717172e-01  2.94867871e-02]\n",
      " [ 1.00000000e+00 -1.51515152e-01  2.29568411e-02]\n",
      " [ 1.00000000e+00 -1.31313131e-01  1.72431385e-02]\n",
      " [ 1.00000000e+00 -1.11111111e-01  1.23456790e-02]\n",
      " [ 1.00000000e+00 -9.09090909e-02  8.26446281e-03]\n",
      " [ 1.00000000e+00 -7.07070707e-02  4.99948985e-03]\n",
      " [ 1.00000000e+00 -5.05050505e-02  2.55076013e-03]\n",
      " [ 1.00000000e+00 -3.03030303e-02  9.18273646e-04]\n",
      " [ 1.00000000e+00 -1.01010101e-02  1.02030405e-04]\n",
      " [ 1.00000000e+00  1.01010101e-02  1.02030405e-04]\n",
      " [ 1.00000000e+00  3.03030303e-02  9.18273646e-04]\n",
      " [ 1.00000000e+00  5.05050505e-02  2.55076013e-03]\n",
      " [ 1.00000000e+00  7.07070707e-02  4.99948985e-03]\n",
      " [ 1.00000000e+00  9.09090909e-02  8.26446281e-03]\n",
      " [ 1.00000000e+00  1.11111111e-01  1.23456790e-02]\n",
      " [ 1.00000000e+00  1.31313131e-01  1.72431385e-02]\n",
      " [ 1.00000000e+00  1.51515152e-01  2.29568411e-02]\n",
      " [ 1.00000000e+00  1.71717172e-01  2.94867871e-02]\n",
      " [ 1.00000000e+00  1.91919192e-01  3.68329762e-02]\n",
      " [ 1.00000000e+00  2.12121212e-01  4.49954086e-02]\n",
      " [ 1.00000000e+00  2.32323232e-01  5.39740843e-02]\n",
      " [ 1.00000000e+00  2.52525253e-01  6.37690032e-02]\n",
      " [ 1.00000000e+00  2.72727273e-01  7.43801653e-02]\n",
      " [ 1.00000000e+00  2.92929293e-01  8.58075707e-02]\n",
      " [ 1.00000000e+00  3.13131313e-01  9.80512193e-02]\n",
      " [ 1.00000000e+00  3.33333333e-01  1.11111111e-01]\n",
      " [ 1.00000000e+00  3.53535354e-01  1.24987246e-01]\n",
      " [ 1.00000000e+00  3.73737374e-01  1.39679625e-01]\n",
      " [ 1.00000000e+00  3.93939394e-01  1.55188246e-01]\n",
      " [ 1.00000000e+00  4.14141414e-01  1.71513111e-01]\n",
      " [ 1.00000000e+00  4.34343434e-01  1.88654219e-01]\n",
      " [ 1.00000000e+00  4.54545455e-01  2.06611570e-01]\n",
      " [ 1.00000000e+00  4.74747475e-01  2.25385165e-01]\n",
      " [ 1.00000000e+00  4.94949495e-01  2.44975003e-01]\n",
      " [ 1.00000000e+00  5.15151515e-01  2.65381084e-01]\n",
      " [ 1.00000000e+00  5.35353535e-01  2.86603408e-01]\n",
      " [ 1.00000000e+00  5.55555556e-01  3.08641975e-01]\n",
      " [ 1.00000000e+00  5.75757576e-01  3.31496786e-01]\n",
      " [ 1.00000000e+00  5.95959596e-01  3.55167840e-01]]\n",
      "[2.02361633 1.04867261 1.98497911]\n"
     ]
    }
   ],
   "source": [
    "np.random.seed(1)\n",
    "x = np.linspace(-1,1,100)\n",
    "signal = 2 + x + 2 * x * x\n",
    "noise = np.random.normal(0, 0.2, 100)\n",
    "y = signal + noise\n",
    "\n",
    "xtrain = x[0:80]\n",
    "ytrain = y[0:80]\n",
    "\n",
    "one = np.ones([80,1])\n",
    "\n",
    "xtrain2 = np.square(xtrain)\n",
    "\n",
    "h=np.column_stack((one,xtrain,xtrain2))\n",
    "print(h)\n",
    "\n",
    "h_trans = h.transpose()\n",
    "\n",
    "temp = np.dot(h_trans, h)\n",
    "\n",
    "inverse = np.linalg.inv(temp)\n",
    "temp2 =np.dot(h_trans,ytrain)\n",
    "\n",
    "a = np.dot(inverse,temp2)\n",
    "\n",
    "print(a)"
   ]
  },
  {
   "cell_type": "code",
   "execution_count": null,
   "metadata": {},
   "outputs": [],
   "source": []
  }
 ],
 "metadata": {
  "kernelspec": {
   "display_name": "Python 3",
   "language": "python",
   "name": "python3"
  },
  "language_info": {
   "codemirror_mode": {
    "name": "ipython",
    "version": 3
   },
   "file_extension": ".py",
   "mimetype": "text/x-python",
   "name": "python",
   "nbconvert_exporter": "python",
   "pygments_lexer": "ipython3",
   "version": "3.7.6"
  }
 },
 "nbformat": 4,
 "nbformat_minor": 4
}
